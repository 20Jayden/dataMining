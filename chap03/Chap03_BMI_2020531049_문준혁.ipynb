{
 "cells": [
  {
   "cell_type": "code",
   "execution_count": 9,
   "id": "47b4ac10",
   "metadata": {},
   "outputs": [
    {
     "name": "stdout",
     "output_type": "stream",
     "text": [
      "키와 몸무게를 입력해주세요 ex)170 65 : 173 64\n",
      "정상 : 현재 건강상태 지속적 유지 관리\n"
     ]
    }
   ],
   "source": [
    "# bmi로 건강상태 체크 함수\n",
    "def bmiToHealthCheck(h, w):\n",
    "    # bmi 계산\n",
    "    bmi = w / (h/100)**2\n",
    "    \n",
    "    if (bmi >= 25):\n",
    "        return \"비만 : 전문가 상담 및 다이어트 프로그램\"\n",
    "    elif (bmi >= 23.0 and bmi <= 24.9):\n",
    "        return \"과체중 : 식단 개선 및 맞춤형 운동 시작\"\n",
    "    elif (bmi >= 18.5 and bmi <= 22.9):\n",
    "        return \"정상 : 현재 건강상태 지속적 유지 관리\"\n",
    "    elif (bmi < 18.5):\n",
    "        return \"저체중 : 영양 보충과 규칙적 생활 변화\"\n",
    "\n",
    "# 키, 몸무게 입력\n",
    "height, weight = map(int, input(\"키(cm)와 몸무게(kg)를 입력해주세요 ex)170 65 : \").split())\n",
    "\n",
    "# 건강상태 결과 출력\n",
    "print(bmiToHealthCheck(height, weight))"
   ]
  }
 ],
 "metadata": {
  "kernelspec": {
   "display_name": "Python 3 (ipykernel)",
   "language": "python",
   "name": "python3"
  },
  "language_info": {
   "codemirror_mode": {
    "name": "ipython",
    "version": 3
   },
   "file_extension": ".py",
   "mimetype": "text/x-python",
   "name": "python",
   "nbconvert_exporter": "python",
   "pygments_lexer": "ipython3",
   "version": "3.11.4"
  }
 },
 "nbformat": 4,
 "nbformat_minor": 5
}
