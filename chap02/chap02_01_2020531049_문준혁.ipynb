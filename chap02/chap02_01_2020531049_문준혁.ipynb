{
 "cells": [
  {
   "cell_type": "markdown",
   "id": "3aaee065",
   "metadata": {},
   "source": [
    "# 첫 번째 실습\n",
    "\n",
    "## 주피터 노트북 실습 (2023.09.16)\n",
    "\n",
    "### 2020530149 문준혁"
   ]
  },
  {
   "cell_type": "code",
   "execution_count": 17,
   "id": "19d71d7a",
   "metadata": {},
   "outputs": [
    {
     "name": "stdout",
     "output_type": "stream",
     "text": [
      "579\n"
     ]
    }
   ],
   "source": [
    "print(123+456)"
   ]
  },
  {
   "cell_type": "code",
   "execution_count": 18,
   "id": "d3b584ca",
   "metadata": {},
   "outputs": [
    {
     "name": "stdout",
     "output_type": "stream",
     "text": [
      "18446744073709551616\n"
     ]
    }
   ],
   "source": [
    "print(2**64)"
   ]
  },
  {
   "cell_type": "code",
   "execution_count": 16,
   "id": "6db011a8",
   "metadata": {},
   "outputs": [
    {
     "name": "stdout",
     "output_type": "stream",
     "text": [
      "41.040650406504064\n"
     ]
    }
   ],
   "source": [
    "print(5048/123)"
   ]
  },
  {
   "cell_type": "code",
   "execution_count": 20,
   "id": "2377816f",
   "metadata": {},
   "outputs": [
    {
     "name": "stdout",
     "output_type": "stream",
     "text": [
      "41\n"
     ]
    }
   ],
   "source": [
    "print(5048//123)"
   ]
  },
  {
   "cell_type": "code",
   "execution_count": 22,
   "id": "8a69a638",
   "metadata": {},
   "outputs": [
    {
     "name": "stdout",
     "output_type": "stream",
     "text": [
      "5\n"
     ]
    }
   ],
   "source": [
    "print(5048%123)"
   ]
  },
  {
   "cell_type": "code",
   "execution_count": 23,
   "id": "d7ab6f6f",
   "metadata": {},
   "outputs": [
    {
     "name": "stdout",
     "output_type": "stream",
     "text": [
      "True\n"
     ]
    }
   ],
   "source": [
    "print(True and True)"
   ]
  },
  {
   "cell_type": "code",
   "execution_count": 25,
   "id": "bd12a64f",
   "metadata": {},
   "outputs": [
    {
     "name": "stdout",
     "output_type": "stream",
     "text": [
      "True\n"
     ]
    }
   ],
   "source": [
    "print(True or False)"
   ]
  },
  {
   "cell_type": "code",
   "execution_count": 27,
   "id": "295fb3f0",
   "metadata": {},
   "outputs": [
    {
     "name": "stdout",
     "output_type": "stream",
     "text": [
      "False\n"
     ]
    }
   ],
   "source": [
    "print(not True)"
   ]
  },
  {
   "cell_type": "code",
   "execution_count": 28,
   "id": "5fb5765e",
   "metadata": {},
   "outputs": [
    {
     "name": "stdout",
     "output_type": "stream",
     "text": [
      "True\n"
     ]
    }
   ],
   "source": [
    "print(not False)"
   ]
  },
  {
   "cell_type": "code",
   "execution_count": 30,
   "id": "72b506fd",
   "metadata": {},
   "outputs": [
    {
     "name": "stdout",
     "output_type": "stream",
     "text": [
      "True\n"
     ]
    }
   ],
   "source": [
    "print(7 == 7)"
   ]
  },
  {
   "cell_type": "code",
   "execution_count": 31,
   "id": "2caf037a",
   "metadata": {},
   "outputs": [
    {
     "data": {
      "text/plain": [
       "30"
      ]
     },
     "execution_count": 31,
     "metadata": {},
     "output_type": "execute_result"
    }
   ],
   "source": [
    "a = 10\n",
    "b = 20\n",
    "a+b"
   ]
  },
  {
   "cell_type": "code",
   "execution_count": 33,
   "id": "9f02a503",
   "metadata": {},
   "outputs": [
    {
     "name": "stdout",
     "output_type": "stream",
     "text": [
      "Hello World\n",
      "<class 'str'>\n"
     ]
    }
   ],
   "source": [
    "str = \"Hello World\"\n",
    "print(str)\n",
    "print(type(str))"
   ]
  },
  {
   "cell_type": "code",
   "execution_count": 35,
   "id": "137b91ef",
   "metadata": {},
   "outputs": [
    {
     "name": "stdout",
     "output_type": "stream",
     "text": [
      "H\n"
     ]
    }
   ],
   "source": [
    "print(str[0])"
   ]
  },
  {
   "cell_type": "code",
   "execution_count": 36,
   "id": "a9508142",
   "metadata": {},
   "outputs": [
    {
     "name": "stdout",
     "output_type": "stream",
     "text": [
      "He\n"
     ]
    }
   ],
   "source": [
    "print(str[0:2])"
   ]
  },
  {
   "cell_type": "code",
   "execution_count": 37,
   "id": "25e2d74d",
   "metadata": {},
   "outputs": [
    {
     "name": "stdout",
     "output_type": "stream",
     "text": [
      "Hello WorldHello World\n"
     ]
    }
   ],
   "source": [
    "print(str*2)"
   ]
  },
  {
   "cell_type": "code",
   "execution_count": 39,
   "id": "c66831df",
   "metadata": {},
   "outputs": [
    {
     "name": "stdout",
     "output_type": "stream",
     "text": [
      "Hello World bye\n"
     ]
    }
   ],
   "source": [
    "print(str+\" bye\")"
   ]
  },
  {
   "cell_type": "code",
   "execution_count": 40,
   "id": "a54a6f4b",
   "metadata": {},
   "outputs": [],
   "source": [
    "list = [\"aaa\", \"bbb\", 123]"
   ]
  },
  {
   "cell_type": "code",
   "execution_count": 41,
   "id": "784a42b4",
   "metadata": {},
   "outputs": [
    {
     "name": "stdout",
     "output_type": "stream",
     "text": [
      "['aaa', 'bbb', 123]\n",
      "<class 'list'>\n"
     ]
    }
   ],
   "source": [
    "print(list)\n",
    "print(type(list))"
   ]
  },
  {
   "cell_type": "code",
   "execution_count": 42,
   "id": "dd17db72",
   "metadata": {},
   "outputs": [
    {
     "name": "stdout",
     "output_type": "stream",
     "text": [
      "['aaa', 'bbb']\n"
     ]
    }
   ],
   "source": [
    "print(list[0:2])"
   ]
  },
  {
   "cell_type": "code",
   "execution_count": 45,
   "id": "ffd91987",
   "metadata": {},
   "outputs": [],
   "source": [
    "dict = {'name':'Jone',\n",
    "        \"code\":6723,\n",
    "        \"dept\":\"sales\"}"
   ]
  },
  {
   "cell_type": "code",
   "execution_count": 46,
   "id": "f92c4d5f",
   "metadata": {},
   "outputs": [
    {
     "name": "stdout",
     "output_type": "stream",
     "text": [
      "{'name': 'Jone', 'code': 6723, 'dept': 'sales'}\n"
     ]
    }
   ],
   "source": [
    "print(dict)"
   ]
  },
  {
   "cell_type": "code",
   "execution_count": 47,
   "id": "1d1908ec",
   "metadata": {},
   "outputs": [
    {
     "name": "stdout",
     "output_type": "stream",
     "text": [
      "<class 'dict'>\n"
     ]
    }
   ],
   "source": [
    "print(type(dict))"
   ]
  },
  {
   "cell_type": "code",
   "execution_count": 48,
   "id": "8402e3e6",
   "metadata": {},
   "outputs": [],
   "source": [
    "def add(a, b):\n",
    "    return a+b"
   ]
  },
  {
   "cell_type": "code",
   "execution_count": 49,
   "id": "777fce60",
   "metadata": {},
   "outputs": [
    {
     "name": "stdout",
     "output_type": "stream",
     "text": [
      "30\n"
     ]
    }
   ],
   "source": [
    "a = 10\n",
    "b = 20\n",
    "c = add(a, b)\n",
    "print(c)"
   ]
  },
  {
   "cell_type": "code",
   "execution_count": null,
   "id": "010e889d",
   "metadata": {},
   "outputs": [],
   "source": []
  }
 ],
 "metadata": {
  "kernelspec": {
   "display_name": "Python 3 (ipykernel)",
   "language": "python",
   "name": "python3"
  },
  "language_info": {
   "codemirror_mode": {
    "name": "ipython",
    "version": 3
   },
   "file_extension": ".py",
   "mimetype": "text/x-python",
   "name": "python",
   "nbconvert_exporter": "python",
   "pygments_lexer": "ipython3",
   "version": "3.11.4"
  }
 },
 "nbformat": 4,
 "nbformat_minor": 5
}
